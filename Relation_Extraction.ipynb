{
 "cells": [
  {
   "cell_type": "code",
   "execution_count": 1,
   "metadata": {
    "colab": {
     "base_uri": "https://localhost:8080/"
    },
    "id": "Yff9DGF-3CFw",
    "outputId": "24837477-3e33-4341-b6fb-0e31d5c3a441"
   },
   "outputs": [
    {
     "name": "stdout",
     "output_type": "stream",
     "text": [
      "Mounted at /content/drive\n"
     ]
    }
   ],
   "source": [
    "from google.colab import drive\n",
    "drive.mount('/content/drive')"
   ]
  },
  {
   "cell_type": "code",
   "execution_count": 2,
   "metadata": {
    "id": "v9DuGT2XE8Jr"
   },
   "outputs": [],
   "source": [
    "!unzip -uq \"/content/drive/MyDrive/DL_HW3_Q2/SemEval2010_task8_all_data.zip\" -d \"/content\" "
   ]
  },
  {
   "cell_type": "code",
   "execution_count": 3,
   "metadata": {
    "id": "rLAjImZGFhee"
   },
   "outputs": [],
   "source": [
    "!unzip -uq '/content/drive/MyDrive/DL_HW3_Q2/glove.42B.300d.zip' -d \"/content\" "
   ]
  },
  {
   "cell_type": "code",
   "execution_count": 4,
   "metadata": {
    "id": "xjkUYr1-E8Kw"
   },
   "outputs": [],
   "source": [
    "import nltk\n",
    "tokenizer=nltk.RegexpTokenizer(r\"\\w+\")\n",
    "from sklearn.model_selection import train_test_split\n",
    "\n",
    "import os\n",
    "import torch\n",
    "import pandas as pd\n",
    "import numpy as np\n",
    "from PIL import Image\n",
    "import spacy\n",
    "from torch.utils.data import DataLoader, Dataset\n",
    "from torch.nn.utils.rnn import pad_sequence\n",
    "import nltk\n",
    "\n",
    "torch.manual_seed(17)\n",
    "import torch.nn as nn\n",
    "import torch.nn.functional as F\n",
    "from torchvision import transforms\n",
    "from torchvision.transforms import ToTensor\n",
    "from torch.optim import Adam, SGD\n",
    "from math import floor\n",
    "from torch.utils.data import Dataset\n",
    "from __future__ import division\n",
    "import math\n",
    "from PIL import Image, ImageOps\n",
    "try:\n",
    "    import accimage\n",
    "except ImportError:\n",
    "    accimage = None\n",
    "import numbers\n",
    "import types\n",
    "import collections\n",
    "from torchvision import transforms\n",
    "from scipy.ndimage import gaussian_filter\n",
    "import torchvision.models as models\n",
    "from matplotlib import image\n",
    "import matplotlib.pyplot as plt\n",
    "import random\n",
    "random.seed(9)\n",
    "from sklearn.metrics import precision_score,f1_score,recall_score\n",
    "from sklearn.metrics import plot_confusion_matrix,confusion_matrix"
   ]
  },
  {
   "cell_type": "code",
   "execution_count": 5,
   "metadata": {
    "id": "O6t6M2D4-smg"
   },
   "outputs": [],
   "source": [
    "device=torch.device(\"cuda\" if torch.cuda.is_available() else \"cpu\")"
   ]
  },
  {
   "cell_type": "code",
   "execution_count": 6,
   "metadata": {
    "id": "IPwWAeNkE8PD"
   },
   "outputs": [],
   "source": [
    "train_path = '/content/SemEval2010_task8_all_data/SemEval2010_task8_training/TRAIN_FILE.TXT'\n",
    "test_path = '/content/SemEval2010_task8_all_data/SemEval2010_task8_testing_keys/TEST_FILE_FULL.TXT'\n",
    "\n",
    "glove_path='/content/glove.42B.300d.txt'"
   ]
  },
  {
   "cell_type": "code",
   "execution_count": 7,
   "metadata": {
    "id": "Qr5VSDRSKcLq"
   },
   "outputs": [],
   "source": [
    "#-------------\n",
    "#train\n",
    "file1 = open(train_path,\"r\")\n",
    "lines=file1.readlines()\n",
    "lines_len=len(lines)\n",
    "num_semtences=[]\n",
    "labels=[]\n",
    "sentences=[]\n",
    "for i in range(int(lines_len/4)):\n",
    "  num_semtences.append(lines[i*4])\n",
    "  labels.append(lines[i*4+1].replace(\"\\n\",\"\"))\n",
    "for j in num_semtences:\n",
    "  sentences.append(j.split('\\t')[1])\n",
    "file1.close\n",
    "cleaned_sentences=[]\n",
    "for k in sentences:\n",
    "  cleaned_sen=k.lower()\n",
    "  cleaned_sen=cleaned_sen.replace(\"<e1>\", \" E1_START \").replace(\"</e1>\", \" E1_END \")\n",
    "  cleaned_sen=cleaned_sen.replace(\"<e2>\", \" E2_START \").replace(\"</e2>\", \" E2_END \")\n",
    "  tokenized_sentence=tokenizer.tokenize(cleaned_sen)\n",
    "  cleaned_sen=\" \".join(tokenized_sentence)\n",
    "  cleaned_sentences.append(cleaned_sen)\n",
    "#------------\n",
    "#test\n",
    "file2 = open(test_path,\"r\")\n",
    "lines_test=file2.readlines()\n",
    "lines_len_test=len(lines_test)\n",
    "num_semtences_test=[]\n",
    "labels_test=[]\n",
    "sentences_test=[]\n",
    "for i in range(int(lines_len_test/4)):\n",
    "  num_semtences_test.append(lines_test[i*4])\n",
    "  labels_test.append(lines_test[i*4+1].replace(\"\\n\",\"\"))\n",
    "for j in num_semtences_test:\n",
    "  sentences_test.append(j.split('\\t')[1])\n",
    "file2.close\n",
    "cleaned_sentences_test=[]\n",
    "for k in sentences_test:\n",
    "  cleaned_sen_test=k.lower()\n",
    "  cleaned_sen_test=cleaned_sen_test.replace(\"<e1>\", \" E1_START \").replace(\"</e1>\", \" E1_END \")\n",
    "  cleaned_sen_test=cleaned_sen_test.replace(\"<e2>\", \" E2_START \").replace(\"</e2>\", \" E2_END \")\n",
    "  tokenized_sentence_test=tokenizer.tokenize(cleaned_sen_test)\n",
    "  cleaned_sen_test=\" \".join(tokenized_sentence_test)\n",
    "  cleaned_sentences_test.append(cleaned_sen_test)"
   ]
  },
  {
   "cell_type": "code",
   "execution_count": 8,
   "metadata": {
    "colab": {
     "base_uri": "https://localhost:8080/"
    },
    "id": "2fhXeTds_-XK",
    "outputId": "0bd3f8a5-b6f6-401a-9d28-4b70e666a38d"
   },
   "outputs": [
    {
     "name": "stdout",
     "output_type": "stream",
     "text": [
      "20972\n"
     ]
    }
   ],
   "source": [
    "#I used links below to understand what to do\n",
    "\n",
    "\n",
    "#https://stackoverflow.com/questions/37793118/load-pretrained-glove-vectors-in-python\n",
    "#https://medium.com/@martinpella/how-to-use-pre-trained-word-embeddings-in-pytorch-71ca59249f76\n",
    "\n",
    "\n",
    "\n",
    "def Get_Glove(glove_txt):\n",
    "    f = open(glove_txt,'r')\n",
    "    gloveModel = {}\n",
    "    n=0\n",
    "    mean_val=0\n",
    "    for line in f:\n",
    "        splitted = line.split()\n",
    "        word = splitted[0]\n",
    "        embd_vec=[float(value) for value in splitted[1:]]\n",
    "        embd_vec = np.array(embd_vec)\n",
    "        gloveModel[word] = embd_vec\n",
    "        mean_val=mean_val+embd_vec\n",
    "        n=n+1\n",
    "    return gloveModel,mean_val/n\n",
    "\n",
    "(gloveModel,mean_val)=Get_Glove(glove_path)\n",
    "\n",
    "\n",
    "\n",
    "embedding_vec={}\n",
    "for a_sentence in cleaned_sentences[:7110]:\n",
    "  tokenized=tokenizer.tokenize(a_sentence)\n",
    "  for word in tokenized:\n",
    "    if word in gloveModel:\n",
    "      embedding_vec[word]=gloveModel[word]\n",
    "\n",
    "for a_sentence in cleaned_sentences_test:\n",
    "  tokenized=tokenizer.tokenize(a_sentence)\n",
    "  for word in tokenized:\n",
    "    if word in gloveModel:\n",
    "      embedding_vec[word]=gloveModel[word]\n",
    "\n",
    "gloveModel={}\n",
    "\n",
    "embedding_vec['E1_START']=mean_val\n",
    "embedding_vec['E1_END']=mean_val\n",
    "embedding_vec['E2_START']=mean_val\n",
    "embedding_vec['E2_END']=mean_val\n",
    "embedding_vec['<UNK>']=mean_val\n",
    "embedding_vec['<PAD>']=np.zeros(np.shape(mean_val))\n",
    "\n",
    "print(len(embedding_vec))\n"
   ]
  },
  {
   "cell_type": "code",
   "execution_count": 9,
   "metadata": {
    "id": "3DJthk4j-0bG"
   },
   "outputs": [],
   "source": [
    "class Vocabulary:\n",
    "  def __init__(self,repeated,embed_vector):\n",
    "    self.embed_vector=embed_vector\n",
    "    self.num2word={}\n",
    "    self.word2num={}\n",
    "    self.tokenizer=nltk.RegexpTokenizer(r\"\\w+\") \n",
    "    self.repeated=repeated \n",
    "\n",
    "  def preprocess(self,sentence):\n",
    "    tokenized_sentence=self.tokenizer.tokenize(sentence)\n",
    "    return tokenized_sentence\n",
    "\n",
    "  def build_dicts(self):\n",
    "    j=0\n",
    "    for a_word in self.embed_vector.keys():\n",
    "      self.word2num[a_word]=j\n",
    "      self.num2word[j]=a_word\n",
    "      j=j+1\n",
    "\n",
    "  \n",
    "  def sentence_to_numbers(self,sentence): #this converts a list of words in a sentance to a list of numbers\n",
    "    numbers=[]\n",
    "    words=self.preprocess(sentence)\n",
    "    for word in words:\n",
    "      if word in self.word2num:\n",
    "        number=self.word2num[word]\n",
    "      else:\n",
    "        number=self.word2num['<UNK>']\n",
    "        #3 is for <UNK>\n",
    "      numbers.append(number)\n",
    "    return numbers\n",
    "\n",
    "  "
   ]
  },
  {
   "cell_type": "code",
   "execution_count": 10,
   "metadata": {
    "colab": {
     "base_uri": "https://localhost:8080/"
    },
    "id": "poRhDtCE-0cF",
    "outputId": "b08db047-6bc0-4489-8527-60ee789e7703"
   },
   "outputs": [
    {
     "name": "stdout",
     "output_type": "stream",
     "text": [
      "20972\n"
     ]
    }
   ],
   "source": [
    "Myvocab=Vocabulary(5,embedding_vec)\n",
    "Myvocab.build_dicts()\n",
    "print(len(Myvocab.num2word))\n",
    "my_padding_value=Myvocab.word2num['<PAD>']"
   ]
  },
  {
   "cell_type": "code",
   "execution_count": 11,
   "metadata": {
    "id": "VXcTVqj9QO4N"
   },
   "outputs": [],
   "source": [
    "matrix_len = len(embedding_vec)\n",
    "weights_matrix = np.zeros((matrix_len, 300))\n",
    "#words_found = 0\n",
    "\n",
    "for i, word in enumerate(Myvocab.word2num):\n",
    "  weights_matrix[Myvocab.word2num[word]] = embedding_vec[word]\n",
    "        #words_found += 1\n",
    "    #except KeyError:\n",
    "       # weights_matrix[i] = np.random.normal(scale=0.6, size=(emb_dim, ))"
   ]
  },
  {
   "cell_type": "code",
   "execution_count": 12,
   "metadata": {
    "colab": {
     "base_uri": "https://localhost:8080/"
    },
    "id": "Xzr4-l-4XQty",
    "outputId": "9d09a13b-f18a-4262-888a-48d3753cd6cb"
   },
   "outputs": [
    {
     "name": "stdout",
     "output_type": "stream",
     "text": [
      "20972 300\n"
     ]
    }
   ],
   "source": [
    "(a,b)=np.shape(weights_matrix)\n",
    "print(a,b)"
   ]
  },
  {
   "cell_type": "code",
   "execution_count": 13,
   "metadata": {
    "id": "nZc8uWzIP1dk"
   },
   "outputs": [],
   "source": [
    "def customized_emb_layer(weights_matrix, trainable=False):\n",
    "    (num_embeddings, embedding_dim) = np.shape(weights_matrix)\n",
    "    emb_layer = nn.Embedding(num_embeddings, embedding_dim)\n",
    "    emb_layer.load_state_dict({'weight': torch.from_numpy(weights_matrix)})\n",
    "    emb_layer.weight.requires_grad = trainable\n",
    "\n",
    "    return emb_layer, num_embeddings, embedding_dim"
   ]
  },
  {
   "cell_type": "code",
   "execution_count": 14,
   "metadata": {
    "colab": {
     "base_uri": "https://localhost:8080/"
    },
    "id": "ySJY1GuP-0hL",
    "outputId": "a4a1656a-099b-4de3-d4ee-742405d694fc"
   },
   "outputs": [
    {
     "name": "stdout",
     "output_type": "stream",
     "text": [
      "7110 7110\n",
      "1630 1630\n",
      "1087 1087\n"
     ]
    }
   ],
   "source": [
    "sentences_train=cleaned_sentences[:7110]\n",
    "labels_train=labels[:7110]\n",
    "\n",
    "sentences_test,sentences_val,labels_test,labels_val= train_test_split(cleaned_sentences_test,labels_test,test_size=0.4,random_state=20)\n",
    "print(len(sentences_train),len(labels_train))\n",
    "print(len(sentences_test),len(labels_test))\n",
    "print(len(sentences_val),len(labels_val))\n"
   ]
  },
  {
   "cell_type": "code",
   "execution_count": 15,
   "metadata": {
    "colab": {
     "base_uri": "https://localhost:8080/"
    },
    "id": "okrWGWdJ-0lB",
    "outputId": "2204aaae-59bf-4523-ae3d-9f60ceaf30a0"
   },
   "outputs": [
    {
     "name": "stdout",
     "output_type": "stream",
     "text": [
      "{'Component-Whole(e2,e1)': 0, 'Other': 1, 'Instrument-Agency(e2,e1)': 2, 'Member-Collection(e1,e2)': 3, 'Cause-Effect(e2,e1)': 4, 'Entity-Destination(e1,e2)': 5, 'Content-Container(e1,e2)': 6, 'Message-Topic(e1,e2)': 7, 'Product-Producer(e2,e1)': 8, 'Member-Collection(e2,e1)': 9, 'Entity-Origin(e1,e2)': 10, 'Cause-Effect(e1,e2)': 11, 'Component-Whole(e1,e2)': 12, 'Message-Topic(e2,e1)': 13, 'Product-Producer(e1,e2)': 14, 'Entity-Origin(e2,e1)': 15, 'Content-Container(e2,e1)': 16, 'Instrument-Agency(e1,e2)': 17, 'Entity-Destination(e2,e1)': 18}\n"
     ]
    }
   ],
   "source": [
    "labels_dic={}\n",
    "j=0\n",
    "for label in labels:\n",
    "  if label not in labels_dic.keys():\n",
    "    labels_dic[label]=j\n",
    "    j=j+1\n",
    "print(labels_dic)\n",
    "\n",
    "lbl_train=[]\n",
    "for label in labels_train:\n",
    "  lbl_train.append(labels_dic[label])\n",
    "\n",
    "lbl_val=[]\n",
    "for label in labels_val:\n",
    "  lbl_val.append(labels_dic[label])\n",
    "\n",
    "lbl_test=[]\n",
    "for label in labels_test:\n",
    "  lbl_test.append(labels_dic[label])\n"
   ]
  },
  {
   "cell_type": "code",
   "execution_count": 16,
   "metadata": {
    "id": "3miLvAPs-0mU"
   },
   "outputs": [],
   "source": [
    "class Customized_Dataset(Dataset):\n",
    "  def __init__(self,data,labels,MyVocab):\n",
    "    self.data=data\n",
    "    self.labels=labels\n",
    "    self.MyVocab=MyVocab\n",
    "\n",
    "  def __len__(self):\n",
    "    L=len(self.data)\n",
    "    return L\n",
    "\n",
    "  def __getitem__(self,index):\n",
    "\n",
    "    sentence=self.data[index]\n",
    "    cap_2_numbers=self.MyVocab.sentence_to_numbers(sentence)\n",
    "\n",
    "    e1_start_place=cap_2_numbers.index(self.MyVocab.word2num['E1_START'])\n",
    "    e1_start_place=torch.tensor(e1_start_place)\n",
    "    e1_end_place=cap_2_numbers.index(self.MyVocab.word2num['E1_END'])\n",
    "    e1_end_place=torch.tensor(e1_end_place)\n",
    "\n",
    "    #e2_start_place=cap_2_numbers.index(self.MyVocab.word2num['E2_START'])\n",
    "    #e2_place=e2_start_place+1\n",
    "    e2_start_place=cap_2_numbers.index(self.MyVocab.word2num['E2_START'])\n",
    "    e2_start_place=torch.tensor(e2_start_place)\n",
    "    e2_end_place=cap_2_numbers.index(self.MyVocab.word2num['E2_END'])\n",
    "    e2_end_place=torch.tensor(e2_end_place)\n",
    "\n",
    "    cap_2_numbers=torch.tensor(cap_2_numbers)\n",
    "\n",
    "\n",
    "\n",
    "    #labels\n",
    "    target=self.labels[index]\n",
    "    #target=self.onehot(target)\n",
    "    target=torch.tensor(target)\n",
    "\n",
    "    return cap_2_numbers,target,e1_start_place,e1_end_place,e2_start_place,e2_end_place"
   ]
  },
  {
   "cell_type": "code",
   "execution_count": 17,
   "metadata": {
    "id": "gqMTSKMr_Grb"
   },
   "outputs": [],
   "source": [
    "\n",
    "class PaddingBatches:\n",
    "  def __call__(self,mini_batch):\n",
    "    sens=[]\n",
    "    lbls=[]\n",
    "    e1s_s=[]\n",
    "    e2s_s=[]\n",
    "    e1s_e=[]\n",
    "    e2s_e=[]\n",
    "    for sen,lbl,e1_s,e1_e,e2_s,e2_e in mini_batch:\n",
    "      sens.append(sen)\n",
    "      lbls.append(lbl.unsqueeze(0))\n",
    "      e1s_s.append(e1_s.unsqueeze(0))\n",
    "      e1s_e.append(e1_e.unsqueeze(0))\n",
    "      e2s_s.append(e2_s.unsqueeze(0))\n",
    "      e2s_e.append(e2_e.unsqueeze(0))\n",
    "    \n",
    "    sens=pad_sequence(sens,padding_value=my_padding_value,batch_first=False)\n",
    "    #sens=torch.cat(sens,dim=0)\n",
    "    #sens=torch.tensor(sens)\n",
    "    lbls=torch.cat(lbls,dim=0)\n",
    "    e1s_s=torch.cat(e1s_s,dim=0)\n",
    "    e1s_e=torch.cat(e1s_e,dim=0)\n",
    "    e2s_s=torch.cat(e2s_s,dim=0)\n",
    "    e2s_e=torch.cat(e2s_e,dim=0)\n",
    "\n",
    "    return sens,lbls,e1s_s,e1s_e,e2s_s,e2s_e"
   ]
  },
  {
   "cell_type": "code",
   "execution_count": 18,
   "metadata": {
    "id": "ojbvXK2LWQGs"
   },
   "outputs": [],
   "source": [
    "def concat_output(forward_vector,backward_vector,e1_starts,e1_ends,e2_starts,e2_ends):\n",
    "  E1_starts=e1_starts.cpu()\n",
    "  E1_ends=e1_ends.cpu()\n",
    "  E2_starts=e2_starts.cpu()\n",
    "  E2_ends=e2_ends.cpu()\n",
    "\n",
    "  E1_starts=np.copy(E1_starts.numpy())\n",
    "  E1_ends=np.copy(E1_ends.numpy())\n",
    "  E2_starts=np.copy(E2_starts.numpy())\n",
    "  E2_ends=np.copy(E2_ends.numpy())\n",
    "\n",
    "  E1=[]\n",
    "  E2=[]\n",
    "  for i in range(E1_starts.shape[0]):\n",
    "    e1s=int(E1_starts[i])\n",
    "    e1e=int(E1_ends[i])\n",
    "    e2s=int(E2_starts[i])\n",
    "    e2e=int(E2_ends[i])\n",
    "\n",
    "    max_pool_e1=torch.max(forward_vector[e1s+1:e1e,i,:],backward_vector[e1s+1:e1e,i,:])\n",
    "\n",
    "    ave_pool_e1=torch.mean(max_pool_e1,0)\n",
    "\n",
    "    #ave_pool_e1=ave_pool_e1.unsqueeze(1)\n",
    "\n",
    "    E1.append(ave_pool_e1)\n",
    "\n",
    "    max_pool_e2=torch.max(forward_vector[e2s+1:e2e,i,:],backward_vector[e2s+1:e2e,i,:])\n",
    "\n",
    "    ave_pool_e2=torch.mean(max_pool_e2,0)\n",
    "\n",
    "    #ave_pool_e2=ave_pool_e2.unsqueeze(1)\n",
    "\n",
    "    E2.append(ave_pool_e2)\n",
    "\n",
    "  E1=torch.cat(E1,0)\n",
    "  E2=torch.cat(E2,0)\n",
    "\n",
    "  E1=E1.view(E1_starts.shape[0],150)\n",
    "  E2=E2.view(E2_ends.shape[0],150)\n",
    "\n",
    "  #print(E1.size())\n",
    "  #print(E2.size())\n",
    "\n",
    "  out=torch.cat((E1,E2),1)\n",
    "\n",
    "  return out\n"
   ]
  },
  {
   "cell_type": "code",
   "execution_count": 19,
   "metadata": {
    "id": "Tp4Y6Jzz_Gsd"
   },
   "outputs": [],
   "source": [
    "class BiLSTM(nn.Module):\n",
    "  def __init__(self,hidden_size,embed_features,num_layers,weights_matrix):\n",
    "    super(BiLSTM,self).__init__()\n",
    "    self.hidden_size=hidden_size\n",
    "    embedding, num_embeddings, embedding_dim = customized_emb_layer(weights_matrix, True)\n",
    "    self.embedding=embedding\n",
    "    self.num_embeddings=num_embeddings\n",
    "    self.embedding_dim=embedding_dim\n",
    "    self.num_layers=num_layers\n",
    "    self.embed_features=embed_features\n",
    "    \n",
    "\n",
    "    #self.embed_layer=nn.Embedding(self.vocabulary_len,self.embed_features)\n",
    "\n",
    "    self.dropout=nn.Dropout(0.5)\n",
    "\n",
    "    self.recurrent=nn.LSTM(self.embed_features,self.hidden_size,self.num_layers,bidirectional=True)\n",
    "\n",
    "    self.linear_layer=nn.Linear(self.hidden_size*2,19)\n",
    "\n",
    "    self.sftmx=nn.LogSoftmax()\n",
    "\n",
    "\n",
    "  #def find\n",
    "    \n",
    "\n",
    "  def forward(self,sentences,e1_start,e1_end,e2_start,e2_end):\n",
    "    X=self.embedding(sentences)\n",
    "    X=self.dropout(X)\n",
    "    \n",
    "    \n",
    "    #X=self.recurrent(X)\n",
    "    X,(h_n, c_n)=self.recurrent(X)\n",
    "\n",
    "    #X=torch.cat(X,dim=0)\n",
    "\n",
    "    X_shape=X.shape\n",
    "    X=X.view(X_shape[0],X_shape[1],2,self.hidden_size)\n",
    "\n",
    "\n",
    "\n",
    "    #(s1,s2)\n",
    "\n",
    "    forward_out=X[:, :, 0, :]\n",
    "\n",
    "    backward_out=X[:, :, 1, :]\n",
    "\n",
    "\n",
    "    #out_fo=X[0, :, 0, :]\n",
    "    #out_bo=X[-1, :, 1, :]\n",
    "\n",
    "    out=concat_output(forward_out,backward_out,e1_start,e1_end,e2_start,e2_end)\n",
    "\n",
    "    #print(out.size())\n",
    "\n",
    "    output=self.linear_layer(out)\n",
    "\n",
    "    output=self.sftmx(output)\n",
    "    \n",
    "    return output\n"
   ]
  },
  {
   "cell_type": "code",
   "execution_count": 20,
   "metadata": {
    "id": "J2mxEFtR_Gws"
   },
   "outputs": [],
   "source": [
    "def accuracy(output,target):\n",
    "  out=torch.argmax(output,1)\n",
    "  n=0\n",
    "  lst=[]\n",
    "  for i in out:\n",
    "    if i==target[n]:\n",
    "      lst.append(1)\n",
    "    else:\n",
    "      lst.append(0)\n",
    "    n=n+1\n",
    "  return sum(lst)/n"
   ]
  },
  {
   "cell_type": "code",
   "execution_count": 27,
   "metadata": {
    "colab": {
     "base_uri": "https://localhost:8080/"
    },
    "id": "1FeDs67O_Gxr",
    "outputId": "9d5aac13-bad8-4897-91b6-151b30059f4c"
   },
   "outputs": [
    {
     "name": "stderr",
     "output_type": "stream",
     "text": [
      "/usr/local/lib/python3.7/dist-packages/torch/utils/data/dataloader.py:477: UserWarning: This DataLoader will create 6 worker processes in total. Our suggested max number of worker in current system is 2, which is smaller than what this DataLoader is going to create. Please be aware that excessive worker creation might get DataLoader running slow or even freeze, lower the worker number to avoid potential slowness/freeze if necessary.\n",
      "  cpuset_checked))\n"
     ]
    }
   ],
   "source": [
    "data=sentences_train\n",
    "labels=lbl_train\n",
    "MyVocab=Myvocab\n",
    "batch_size=64\n",
    "params={'batch_size': batch_size,\n",
    "          'shuffle': True,\n",
    "          'num_workers': 6,'collate_fn':PaddingBatches()}\n",
    "\n",
    "dataset=Customized_Dataset(data,labels,MyVocab)\n",
    "train_generator=DataLoader(dataset,**params)\n",
    "\n",
    "\n",
    "dataset_val=Customized_Dataset(sentences_val,lbl_val,MyVocab)\n",
    "val_generator=DataLoader(dataset_val,**params)\n",
    "\n",
    "\n",
    "hidden_size=150\n",
    "embed_features=300\n",
    "num_layers=2\n",
    "vocabulary_len=len(dataset.MyVocab.num2word)\n",
    "epochs=15\n",
    "learning_rate=1e-4"
   ]
  },
  {
   "cell_type": "code",
   "execution_count": 28,
   "metadata": {
    "colab": {
     "base_uri": "https://localhost:8080/"
    },
    "id": "ftwjPzS0_G2A",
    "outputId": "cb381515-aa7c-4aaa-f086-4806585216ba"
   },
   "outputs": [
    {
     "name": "stderr",
     "output_type": "stream",
     "text": [
      "/usr/local/lib/python3.7/dist-packages/torch/utils/data/dataloader.py:477: UserWarning: This DataLoader will create 6 worker processes in total. Our suggested max number of worker in current system is 2, which is smaller than what this DataLoader is going to create. Please be aware that excessive worker creation might get DataLoader running slow or even freeze, lower the worker number to avoid potential slowness/freeze if necessary.\n",
      "  cpuset_checked))\n",
      "/usr/local/lib/python3.7/dist-packages/ipykernel_launcher.py:58: UserWarning: Implicit dimension choice for log_softmax has been deprecated. Change the call to include dim=X as an argument.\n"
     ]
    },
    {
     "name": "stdout",
     "output_type": "stream",
     "text": [
      "[1,   50] loss: 2.882095\n",
      "[1,  100] loss: 2.686961\n",
      "epoch 1 train loss is 2.7648919756923402\n",
      "epoch 1 val loss is 2.5985508806565227\n",
      "epoch 1 train accuracy is 0.15104166666666669\n",
      "epoch 1 val accuracy is 0.22270366479925302\n",
      "[2,   50] loss: 2.490837\n",
      "[2,  100] loss: 2.144312\n",
      "epoch 2 train loss is 2.2856565256203925\n",
      "epoch 2 val loss is 2.1165190374149994\n",
      "epoch 2 train accuracy is 0.31436011904761907\n",
      "epoch 2 val accuracy is 0.3256010737628385\n",
      "[3,   50] loss: 1.869256\n",
      "[3,  100] loss: 1.641092\n",
      "epoch 3 train loss is 1.737096639616149\n",
      "epoch 3 val loss is 1.7191748829448925\n",
      "epoch 3 train accuracy is 0.4535435267857143\n",
      "epoch 3 val accuracy is 0.44076797385620914\n",
      "[4,   50] loss: 1.437198\n",
      "[4,  100] loss: 1.225396\n",
      "epoch 4 train loss is 1.3273297606834344\n",
      "epoch 4 val loss is 1.4238754791371964\n",
      "epoch 4 train accuracy is 0.5868675595238095\n",
      "epoch 4 val accuracy is 0.5445699112978525\n",
      "[5,   50] loss: 1.051694\n",
      "[5,  100] loss: 0.918249\n",
      "epoch 5 train loss is 0.9686432385018894\n",
      "epoch 5 val loss is 1.1920141577720642\n",
      "epoch 5 train accuracy is 0.6886625744047619\n",
      "epoch 5 val accuracy is 0.6246644491129785\n",
      "[6,   50] loss: 0.775396\n",
      "[6,  100] loss: 0.710255\n",
      "epoch 6 train loss is 0.7320754818086114\n",
      "epoch 6 val loss is 1.1032517622498905\n",
      "epoch 6 train accuracy is 0.7610677083333333\n",
      "epoch 6 val accuracy is 0.66328197945845\n",
      "[7,   50] loss: 0.585549\n",
      "[7,  100] loss: 0.535064\n",
      "epoch 7 train loss is 0.5560540822999818\n",
      "epoch 7 val loss is 1.0960994888754452\n",
      "epoch 7 train accuracy is 0.8218005952380952\n",
      "epoch 7 val accuracy is 0.6458041549953314\n",
      "[8,   50] loss: 0.412815\n",
      "[8,  100] loss: 0.376628\n",
      "epoch 8 train loss is 0.3906144328149302\n",
      "epoch 8 val loss is 1.1062795344521017\n",
      "epoch 8 train accuracy is 0.8718377976190476\n",
      "epoch 8 val accuracy is 0.6753326330532213\n",
      "[9,   50] loss: 0.312979\n",
      "[9,  100] loss: 0.278816\n",
      "epoch 9 train loss is 0.29194678652233313\n",
      "epoch 9 val loss is 1.2762394126723795\n",
      "epoch 9 train accuracy is 0.9045758928571429\n",
      "epoch 9 val accuracy is 0.6605829831932772\n",
      "[10,   50] loss: 0.240240\n",
      "[10,  100] loss: 0.181796\n",
      "epoch 10 train loss is 0.20650416017243906\n",
      "epoch 10 val loss is 1.2067834524547352\n",
      "epoch 10 train accuracy is 0.9316871279761905\n",
      "epoch 10 val accuracy is 0.7019870448179272\n",
      "[11,   50] loss: 0.124364\n",
      "[11,  100] loss: 0.120772\n",
      "epoch 11 train loss is 0.12511025883889357\n",
      "epoch 11 val loss is 1.3407215511097628\n",
      "epoch 11 train accuracy is 0.9592633928571429\n",
      "epoch 11 val accuracy is 0.6926937441643324\n",
      "[12,   50] loss: 0.121869\n",
      "[12,  100] loss: 0.101335\n",
      "epoch 12 train loss is 0.11186363904770198\n",
      "epoch 12 val loss is 1.4555133686346167\n",
      "epoch 12 train accuracy is 0.9635881696428571\n",
      "epoch 12 val accuracy is 0.6707224556489263\n",
      "[13,   50] loss: 0.066960\n",
      "[13,  100] loss: 0.071838\n",
      "epoch 13 train loss is 0.06981498032109812\n",
      "epoch 13 val loss is 1.4606356550665462\n",
      "epoch 13 train accuracy is 0.9776785714285714\n",
      "epoch 13 val accuracy is 0.7038398692810458\n",
      "[14,   50] loss: 0.050383\n",
      "[14,  100] loss: 0.058646\n",
      "epoch 14 train loss is 0.05186792164542047\n",
      "epoch 14 val loss is 1.5766263849595015\n",
      "epoch 14 train accuracy is 0.9840959821428571\n",
      "epoch 14 val accuracy is 0.6908263305322129\n",
      "[15,   50] loss: 0.037929\n",
      "[15,  100] loss: 0.037391\n",
      "epoch 15 train loss is 0.03618619887440998\n",
      "epoch 15 val loss is 1.689677217427422\n",
      "epoch 15 train accuracy is 0.9900948660714286\n",
      "epoch 15 val accuracy is 0.6963993930905695\n"
     ]
    }
   ],
   "source": [
    "#for training\n",
    "model=BiLSTM(hidden_size,embed_features,num_layers,weights_matrix).to(device)\n",
    "criterian=nn.NLLLoss(ignore_index=my_padding_value) #0 for padding will be ignored\n",
    "optimizer=Adam(model.parameters(),lr=learning_rate,weight_decay=0)\n",
    "\n",
    "\n",
    "train_loss_pe=[] #pe: per epoch\n",
    "\n",
    "val_loss_pe=[] #pe: per epoch\n",
    "\n",
    "train_acc_pe=[]\n",
    "\n",
    "val_acc_pe=[]\n",
    "\n",
    "for epoch in range(epochs):\n",
    "  running_loss=0\n",
    "  n=0\n",
    "  tr_l_pe=0\n",
    "  tr_a_pe=0\n",
    "  for i,(mydata,mytarget,e1_start_train,e1_end_train,e2_start_train,e2_end_train) in enumerate(train_generator):\n",
    "    #optimizer.zero_grad()\n",
    "    n=n+1\n",
    "    mydata=mydata.to(device)\n",
    "    mytarget=mytarget.to(device)\n",
    "\n",
    "    e1_start_train=e1_start_train.to(device)\n",
    "    e1_end_train=e1_end_train.to(device)\n",
    "    e2_start_train=e2_start_train.to(device)\n",
    "    e2_end_train=e2_end_train.to(device)\n",
    "    outputs=model(mydata,e1_start_train,e1_end_train,e2_start_train,e2_end_train)\n",
    "\n",
    "    loss=criterian(outputs,mytarget)\n",
    "\n",
    "    tr_a_pe=tr_a_pe+accuracy(outputs,mytarget)\n",
    "\n",
    "    loss.backward()\n",
    "\n",
    "    optimizer.step()\n",
    "\n",
    "    running_loss+=loss.item()\n",
    "    if i%50==49:\n",
    "      print('[%d,%5d] loss: %f'%(epoch+1,i+1,running_loss/50))\n",
    "      running_loss=0\n",
    "    tr_l_pe+=loss.item()\n",
    "\n",
    "  train_loss_pe.append(tr_l_pe/n)\n",
    "  train_acc_pe.append(tr_a_pe/n)\n",
    "\n",
    "  \n",
    "  n1=0\n",
    "  val_l_pe=0\n",
    "  val_a_pe=0\n",
    "  for k,(mydata_val,mytarget_val,e1_start_val,e1_end_val,e2_start_val,e2_end_val) in enumerate(val_generator):\n",
    "    #optimizer.zero_grad()\n",
    "    n1=n1+1\n",
    "    mydata_val=mydata_val.to(device)\n",
    "    mytarget_val=mytarget_val.to(device)\n",
    "    e1_start_val=e1_start_val.to(device)\n",
    "    e1_end_val=e1_end_val.to(device)\n",
    "    e2_start_val=e2_start_val.to(device)\n",
    "    e2_end_val=e2_end_val.to(device)\n",
    "    outputs_val=model(mydata_val,e1_start_val,e1_end_val,e2_start_val,e2_end_val)\n",
    "\n",
    "    loss_val=criterian(outputs_val,mytarget_val)\n",
    "\n",
    "    val_a_pe=val_a_pe+accuracy(outputs_val,mytarget_val)\n",
    "\n",
    "    val_l_pe+=loss_val.item()\n",
    "\n",
    "  val_loss_pe.append(val_l_pe/n1)\n",
    "  val_acc_pe.append(val_a_pe/n1)\n",
    "\n",
    "\n",
    "  print('epoch '+str(epoch+1)+' train loss is '+str(tr_l_pe/n))\n",
    "  print('epoch '+str(epoch+1)+' val loss is '+str(val_l_pe/n1))\n",
    "  print('epoch '+str(epoch+1)+' train accuracy is '+str(tr_a_pe/n))\n",
    "  print('epoch '+str(epoch+1)+' val accuracy is '+str(val_a_pe/n1))"
   ]
  },
  {
   "cell_type": "code",
   "execution_count": 29,
   "metadata": {
    "colab": {
     "base_uri": "https://localhost:8080/",
     "height": 558
    },
    "id": "9BeT_cnF_R2_",
    "outputId": "702900d4-182d-4d53-bf7f-c0d465e42ae2"
   },
   "outputs": [
    {
     "data": {
      "text/plain": [
       "<matplotlib.legend.Legend at 0x7fbc604b4ad0>"
      ]
     },
     "execution_count": 29,
     "metadata": {
      "tags": []
     },
     "output_type": "execute_result"
    },
    {
     "data": {
      "image/png": "[encoded data removed]",
      "text/plain": [
       "<Figure size 432x288 with 1 Axes>"
      ]
     },
     "metadata": {
      "needs_background": "light",
      "tags": []
     },
     "output_type": "display_data"
    },
    {
     "data": {
      "image/png": "[encoded data removed]",
      "text/plain": [
       "<Figure size 432x288 with 1 Axes>"
      ]
     },
     "metadata": {
      "needs_background": "light",
      "tags": []
     },
     "output_type": "display_data"
    }
   ],
   "source": [
    "#plotting loss\n",
    "plt.figure()\n",
    "XX=list(range(1,epochs+1))\n",
    "plt.plot(XX,train_loss_pe)\n",
    "plt.plot(XX,val_loss_pe)\n",
    "plt.xlabel('epoch')\n",
    "plt.ylabel('loss')\n",
    "#plt.legend(['train loss'])\n",
    "plt.legend(['train loss','val loss'])\n",
    "\n",
    "\n",
    "#plotting loss\n",
    "plt.figure()\n",
    "plt.plot(XX,train_acc_pe)\n",
    "plt.plot(XX,val_acc_pe)\n",
    "plt.xlabel('epoch')\n",
    "plt.ylabel('acc')\n",
    "#plt.legend(['train acc'])\n",
    "plt.legend(['train acc','val acc'])"
   ]
  },
  {
   "cell_type": "code",
   "execution_count": 32,
   "metadata": {
    "colab": {
     "base_uri": "https://localhost:8080/"
    },
    "id": "56O2ItV3_R4I",
    "outputId": "375b3049-bfe2-440c-92bd-aa4a38f268a5"
   },
   "outputs": [
    {
     "name": "stderr",
     "output_type": "stream",
     "text": [
      "/usr/local/lib/python3.7/dist-packages/torch/utils/data/dataloader.py:477: UserWarning: This DataLoader will create 6 worker processes in total. Our suggested max number of worker in current system is 2, which is smaller than what this DataLoader is going to create. Please be aware that excessive worker creation might get DataLoader running slow or even freeze, lower the worker number to avoid potential slowness/freeze if necessary.\n",
      "  cpuset_checked))\n",
      "/usr/local/lib/python3.7/dist-packages/ipykernel_launcher.py:58: UserWarning: Implicit dimension choice for log_softmax has been deprecated. Change the call to include dim=X as an argument.\n"
     ]
    },
    {
     "name": "stdout",
     "output_type": "stream",
     "text": [
      "test accuracy is 0.6736196319018405\n",
      "test recall 0.6787720582222371\n",
      "test precision 0.6691831015725374\n",
      "test f1 0.6736196319018405\n"
     ]
    },
    {
     "name": "stderr",
     "output_type": "stream",
     "text": [
      "/usr/local/lib/python3.7/dist-packages/sklearn/metrics/_classification.py:1272: UndefinedMetricWarning: Precision is ill-defined and being set to 0.0 in labels with no predicted samples. Use `zero_division` parameter to control this behavior.\n",
      "  _warn_prf(average, modifier, msg_start, len(result))\n"
     ]
    }
   ],
   "source": [
    "params_test={'batch_size': len(lbl_test),\n",
    "          'shuffle': True,\n",
    "          'num_workers': 6,'collate_fn':PaddingBatches()}\n",
    "\n",
    "\n",
    "dataset_test=Customized_Dataset(sentences_test,lbl_test,MyVocab)\n",
    "test_generator=DataLoader(dataset_test,**params_test)\n",
    "\n",
    "\n",
    "for k,(mydata_test,mytarget_test,e1_start_test,e1_end_test,e2_start_test,e2_end_test) in enumerate(test_generator):\n",
    "  #optimizer.zero_grad()\n",
    "  n1=n1+1\n",
    "  mydata_test=mydata_test.to(device)\n",
    "  mytarget_test=mytarget_test.to(device)\n",
    "  e1_start_test=e1_start_test.to(device)\n",
    "  e1_end_test=e1_end_test.to(device)\n",
    "  e2_start_test=e2_start_test.to(device)\n",
    "  e2_end_test=e2_end_test.to(device)\n",
    "  outputs_test=model(mydata_test,e1_start_test,e1_end_test,e2_start_test,e2_end_test)\n",
    "\n",
    "  loss_test=criterian(outputs_test,mytarget_test)\n",
    "\n",
    "  test_acc=accuracy(outputs_test,mytarget_test)\n",
    "\n",
    "out_test=torch.argmax(outputs_test,1)\n",
    "out_test=out_test.cpu()\n",
    "out_test=out_test.numpy()\n",
    "\n",
    "real_lbl=mytarget_test\n",
    "real_lbl=real_lbl.cpu()\n",
    "real_lbl=real_lbl.numpy()\n",
    "\n",
    "test_recall=precision_score(real_lbl,out_test,average='weighted')\n",
    "test_precision=f1_score(real_lbl,out_test,average='weighted')\n",
    "test_f1=recall_score(real_lbl,out_test,average='weighted')\n",
    "\n",
    "print('test accuracy is',test_acc)\n",
    "print('test recall',test_recall)\n",
    "print('test precision',test_precision)\n",
    "print('test f1',test_f1)\n"
   ]
  },
  {
   "cell_type": "code",
   "execution_count": 25,
   "metadata": {
    "id": "OWxNVCWSLj5h"
   },
   "outputs": [],
   "source": [
    "import csv\n",
    "\n",
    "\n",
    "#I saves confusion matrix array as a csv file and then processed it in excell\n",
    "#result is in the report \n",
    "#it's because plot_confusion_\n",
    "\n",
    "cm=confusion_matrix(real_lbl,out_test)\n",
    "\n",
    "\n",
    "with open('myfile.csv', 'w', newline='') as file:\n",
    "    mywriter = csv.writer(file, delimiter=',')\n",
    "    mywriter.writerows(cm)"
   ]
  }
 ],
 "metadata": {
  "accelerator": "GPU",
  "colab": {
   "collapsed_sections": [],
   "name": "DL_HW3_Q2_p3 (3).ipynb",
   "provenance": []
  },
  "kernelspec": {
   "display_name": "Python 3",
   "language": "python",
   "name": "python3"
  },
  "language_info": {
   "codemirror_mode": {
    "name": "ipython",
    "version": 3
   },
   "file_extension": ".py",
   "mimetype": "text/x-python",
   "name": "python",
   "nbconvert_exporter": "python",
   "pygments_lexer": "ipython3",
   "version": "3.7.3"
  }
 },
 "nbformat": 4,
 "nbformat_minor": 1
}
